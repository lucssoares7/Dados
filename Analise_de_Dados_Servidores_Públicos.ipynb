{
  "nbformat": 4,
  "nbformat_minor": 0,
  "metadata": {
    "colab": {
      "provenance": [],
      "mount_file_id": "1Q6o7Wf47R-tcmx50AuYHjdJlnDY5CRWc",
      "authorship_tag": "ABX9TyNITuGYZmV+fF6/urs/joC3",
      "include_colab_link": true
    },
    "kernelspec": {
      "name": "python3",
      "display_name": "Python 3"
    },
    "language_info": {
      "name": "python"
    }
  },
  "cells": [
    {
      "cell_type": "markdown",
      "metadata": {
        "id": "view-in-github",
        "colab_type": "text"
      },
      "source": [
        "<a href=\"https://colab.research.google.com/github/lucssoares7/Dados/blob/analise_exploratoria/Analise_de_Dados_Servidores_P%C3%BAblicos.ipynb\" target=\"_parent\"><img src=\"https://colab.research.google.com/assets/colab-badge.svg\" alt=\"Open In Colab\"/></a>"
      ]
    },
    {
      "cell_type": "markdown",
      "source": [
        "Análise de Dados do tempo de serviço e evolução salarial desde 2016 (conforme dados disponíveis no portal da transparência)  no cargo de \"Instrutor de Informática\" na Prefeitura Municipal de Cascavel - PR\n",
        "\n",
        "Dados disponíveis em: https://cascavel.atende.net/transparencia"
      ],
      "metadata": {
        "id": "3GWkUuwGpeMb"
      }
    },
    {
      "cell_type": "markdown",
      "source": [
        "Carregando Dados dos Funcionários Exonerados\n"
      ],
      "metadata": {
        "id": "tsXLifDUvcXQ"
      }
    },
    {
      "cell_type": "code",
      "source": [
        "import pandas as pd\n",
        "import numpy as np\n",
        "import matplotlib.pyplot as plt\n",
        "\n",
        "from google.colab import drive\n",
        "drive.mount('/content/drive')\n",
        "\n",
        "caminho_exonerados = \"/content/drive/MyDrive/Dados/Servidores/Relação de Exonerados - Relatório.csv\"\n",
        "data_exonerados = pd.read_csv(caminho_exonerados,sep=\",\",encoding=\"utf-8\",error_bad_lines=False)\n",
        "data_exonerados.head()\n"
      ],
      "metadata": {
        "colab": {
          "base_uri": "https://localhost:8080/",
          "height": 313
        },
        "id": "RZnSTDjVvbWq",
        "outputId": "8be92b92-ed43-4c46-ca86-3a323c58cb18"
      },
      "execution_count": 12,
      "outputs": [
        {
          "output_type": "stream",
          "name": "stdout",
          "text": [
            "Drive already mounted at /content/drive; to attempt to forcibly remount, call drive.mount(\"/content/drive\", force_remount=True).\n"
          ]
        },
        {
          "output_type": "stream",
          "name": "stderr",
          "text": [
            "<ipython-input-12-f3ec854a858d>:9: FutureWarning: The error_bad_lines argument has been deprecated and will be removed in a future version. Use on_bad_lines in the future.\n",
            "\n",
            "\n",
            "  data_exonerados = pd.read_csv(caminho_exonerados,sep=\",\",encoding=\"utf-8\",error_bad_lines=False)\n"
          ]
        },
        {
          "output_type": "execute_result",
          "data": {
            "text/plain": [
              "                Nome Funcionário Data Admissão Data Rescisão  \\\n",
              "0                  UTTARA KLAIME    10/12/1969    21/07/1990   \n",
              "1             GERALDO PIO DUARTE    18/12/1964    29/08/1990   \n",
              "2                  NEUZA HORBACH    15/01/1968    30/12/1996   \n",
              "3                   LURDES MIOLA    01/03/1971    01/09/1990   \n",
              "4  MARA DILETA CAPELLESSO SANTOS    01/05/1972    30/12/1996   \n",
              "\n",
              "           Descrição Cargo  \n",
              "0   OFICIAL ADMINISTRATIVO  \n",
              "1     CARGO NECESSÁRIO WEB  \n",
              "2  ASSESSOR ADMINISTRATIVO  \n",
              "3             ESCRITURARIO  \n",
              "4                 ASSESSOR  "
            ],
            "text/html": [
              "\n",
              "  <div id=\"df-ea49b854-b78e-457a-99c6-81f2e6de762f\" class=\"colab-df-container\">\n",
              "    <div>\n",
              "<style scoped>\n",
              "    .dataframe tbody tr th:only-of-type {\n",
              "        vertical-align: middle;\n",
              "    }\n",
              "\n",
              "    .dataframe tbody tr th {\n",
              "        vertical-align: top;\n",
              "    }\n",
              "\n",
              "    .dataframe thead th {\n",
              "        text-align: right;\n",
              "    }\n",
              "</style>\n",
              "<table border=\"1\" class=\"dataframe\">\n",
              "  <thead>\n",
              "    <tr style=\"text-align: right;\">\n",
              "      <th></th>\n",
              "      <th>Nome Funcionário</th>\n",
              "      <th>Data Admissão</th>\n",
              "      <th>Data Rescisão</th>\n",
              "      <th>Descrição Cargo</th>\n",
              "    </tr>\n",
              "  </thead>\n",
              "  <tbody>\n",
              "    <tr>\n",
              "      <th>0</th>\n",
              "      <td>UTTARA KLAIME</td>\n",
              "      <td>10/12/1969</td>\n",
              "      <td>21/07/1990</td>\n",
              "      <td>OFICIAL ADMINISTRATIVO</td>\n",
              "    </tr>\n",
              "    <tr>\n",
              "      <th>1</th>\n",
              "      <td>GERALDO PIO DUARTE</td>\n",
              "      <td>18/12/1964</td>\n",
              "      <td>29/08/1990</td>\n",
              "      <td>CARGO NECESSÁRIO WEB</td>\n",
              "    </tr>\n",
              "    <tr>\n",
              "      <th>2</th>\n",
              "      <td>NEUZA HORBACH</td>\n",
              "      <td>15/01/1968</td>\n",
              "      <td>30/12/1996</td>\n",
              "      <td>ASSESSOR ADMINISTRATIVO</td>\n",
              "    </tr>\n",
              "    <tr>\n",
              "      <th>3</th>\n",
              "      <td>LURDES MIOLA</td>\n",
              "      <td>01/03/1971</td>\n",
              "      <td>01/09/1990</td>\n",
              "      <td>ESCRITURARIO</td>\n",
              "    </tr>\n",
              "    <tr>\n",
              "      <th>4</th>\n",
              "      <td>MARA DILETA CAPELLESSO SANTOS</td>\n",
              "      <td>01/05/1972</td>\n",
              "      <td>30/12/1996</td>\n",
              "      <td>ASSESSOR</td>\n",
              "    </tr>\n",
              "  </tbody>\n",
              "</table>\n",
              "</div>\n",
              "    <div class=\"colab-df-buttons\">\n",
              "\n",
              "  <div class=\"colab-df-container\">\n",
              "    <button class=\"colab-df-convert\" onclick=\"convertToInteractive('df-ea49b854-b78e-457a-99c6-81f2e6de762f')\"\n",
              "            title=\"Convert this dataframe to an interactive table.\"\n",
              "            style=\"display:none;\">\n",
              "\n",
              "  <svg xmlns=\"http://www.w3.org/2000/svg\" height=\"24px\" viewBox=\"0 -960 960 960\">\n",
              "    <path d=\"M120-120v-720h720v720H120Zm60-500h600v-160H180v160Zm220 220h160v-160H400v160Zm0 220h160v-160H400v160ZM180-400h160v-160H180v160Zm440 0h160v-160H620v160ZM180-180h160v-160H180v160Zm440 0h160v-160H620v160Z\"/>\n",
              "  </svg>\n",
              "    </button>\n",
              "\n",
              "  <style>\n",
              "    .colab-df-container {\n",
              "      display:flex;\n",
              "      gap: 12px;\n",
              "    }\n",
              "\n",
              "    .colab-df-convert {\n",
              "      background-color: #E8F0FE;\n",
              "      border: none;\n",
              "      border-radius: 50%;\n",
              "      cursor: pointer;\n",
              "      display: none;\n",
              "      fill: #1967D2;\n",
              "      height: 32px;\n",
              "      padding: 0 0 0 0;\n",
              "      width: 32px;\n",
              "    }\n",
              "\n",
              "    .colab-df-convert:hover {\n",
              "      background-color: #E2EBFA;\n",
              "      box-shadow: 0px 1px 2px rgba(60, 64, 67, 0.3), 0px 1px 3px 1px rgba(60, 64, 67, 0.15);\n",
              "      fill: #174EA6;\n",
              "    }\n",
              "\n",
              "    .colab-df-buttons div {\n",
              "      margin-bottom: 4px;\n",
              "    }\n",
              "\n",
              "    [theme=dark] .colab-df-convert {\n",
              "      background-color: #3B4455;\n",
              "      fill: #D2E3FC;\n",
              "    }\n",
              "\n",
              "    [theme=dark] .colab-df-convert:hover {\n",
              "      background-color: #434B5C;\n",
              "      box-shadow: 0px 1px 3px 1px rgba(0, 0, 0, 0.15);\n",
              "      filter: drop-shadow(0px 1px 2px rgba(0, 0, 0, 0.3));\n",
              "      fill: #FFFFFF;\n",
              "    }\n",
              "  </style>\n",
              "\n",
              "    <script>\n",
              "      const buttonEl =\n",
              "        document.querySelector('#df-ea49b854-b78e-457a-99c6-81f2e6de762f button.colab-df-convert');\n",
              "      buttonEl.style.display =\n",
              "        google.colab.kernel.accessAllowed ? 'block' : 'none';\n",
              "\n",
              "      async function convertToInteractive(key) {\n",
              "        const element = document.querySelector('#df-ea49b854-b78e-457a-99c6-81f2e6de762f');\n",
              "        const dataTable =\n",
              "          await google.colab.kernel.invokeFunction('convertToInteractive',\n",
              "                                                    [key], {});\n",
              "        if (!dataTable) return;\n",
              "\n",
              "        const docLinkHtml = 'Like what you see? Visit the ' +\n",
              "          '<a target=\"_blank\" href=https://colab.research.google.com/notebooks/data_table.ipynb>data table notebook</a>'\n",
              "          + ' to learn more about interactive tables.';\n",
              "        element.innerHTML = '';\n",
              "        dataTable['output_type'] = 'display_data';\n",
              "        await google.colab.output.renderOutput(dataTable, element);\n",
              "        const docLink = document.createElement('div');\n",
              "        docLink.innerHTML = docLinkHtml;\n",
              "        element.appendChild(docLink);\n",
              "      }\n",
              "    </script>\n",
              "  </div>\n",
              "\n",
              "\n",
              "<div id=\"df-2b7ab868-9f2c-4626-b363-a454989da3d4\">\n",
              "  <button class=\"colab-df-quickchart\" onclick=\"quickchart('df-2b7ab868-9f2c-4626-b363-a454989da3d4')\"\n",
              "            title=\"Suggest charts.\"\n",
              "            style=\"display:none;\">\n",
              "\n",
              "<svg xmlns=\"http://www.w3.org/2000/svg\" height=\"24px\"viewBox=\"0 0 24 24\"\n",
              "     width=\"24px\">\n",
              "    <g>\n",
              "        <path d=\"M19 3H5c-1.1 0-2 .9-2 2v14c0 1.1.9 2 2 2h14c1.1 0 2-.9 2-2V5c0-1.1-.9-2-2-2zM9 17H7v-7h2v7zm4 0h-2V7h2v10zm4 0h-2v-4h2v4z\"/>\n",
              "    </g>\n",
              "</svg>\n",
              "  </button>\n",
              "\n",
              "<style>\n",
              "  .colab-df-quickchart {\n",
              "      --bg-color: #E8F0FE;\n",
              "      --fill-color: #1967D2;\n",
              "      --hover-bg-color: #E2EBFA;\n",
              "      --hover-fill-color: #174EA6;\n",
              "      --disabled-fill-color: #AAA;\n",
              "      --disabled-bg-color: #DDD;\n",
              "  }\n",
              "\n",
              "  [theme=dark] .colab-df-quickchart {\n",
              "      --bg-color: #3B4455;\n",
              "      --fill-color: #D2E3FC;\n",
              "      --hover-bg-color: #434B5C;\n",
              "      --hover-fill-color: #FFFFFF;\n",
              "      --disabled-bg-color: #3B4455;\n",
              "      --disabled-fill-color: #666;\n",
              "  }\n",
              "\n",
              "  .colab-df-quickchart {\n",
              "    background-color: var(--bg-color);\n",
              "    border: none;\n",
              "    border-radius: 50%;\n",
              "    cursor: pointer;\n",
              "    display: none;\n",
              "    fill: var(--fill-color);\n",
              "    height: 32px;\n",
              "    padding: 0;\n",
              "    width: 32px;\n",
              "  }\n",
              "\n",
              "  .colab-df-quickchart:hover {\n",
              "    background-color: var(--hover-bg-color);\n",
              "    box-shadow: 0 1px 2px rgba(60, 64, 67, 0.3), 0 1px 3px 1px rgba(60, 64, 67, 0.15);\n",
              "    fill: var(--button-hover-fill-color);\n",
              "  }\n",
              "\n",
              "  .colab-df-quickchart-complete:disabled,\n",
              "  .colab-df-quickchart-complete:disabled:hover {\n",
              "    background-color: var(--disabled-bg-color);\n",
              "    fill: var(--disabled-fill-color);\n",
              "    box-shadow: none;\n",
              "  }\n",
              "\n",
              "  .colab-df-spinner {\n",
              "    border: 2px solid var(--fill-color);\n",
              "    border-color: transparent;\n",
              "    border-bottom-color: var(--fill-color);\n",
              "    animation:\n",
              "      spin 1s steps(1) infinite;\n",
              "  }\n",
              "\n",
              "  @keyframes spin {\n",
              "    0% {\n",
              "      border-color: transparent;\n",
              "      border-bottom-color: var(--fill-color);\n",
              "      border-left-color: var(--fill-color);\n",
              "    }\n",
              "    20% {\n",
              "      border-color: transparent;\n",
              "      border-left-color: var(--fill-color);\n",
              "      border-top-color: var(--fill-color);\n",
              "    }\n",
              "    30% {\n",
              "      border-color: transparent;\n",
              "      border-left-color: var(--fill-color);\n",
              "      border-top-color: var(--fill-color);\n",
              "      border-right-color: var(--fill-color);\n",
              "    }\n",
              "    40% {\n",
              "      border-color: transparent;\n",
              "      border-right-color: var(--fill-color);\n",
              "      border-top-color: var(--fill-color);\n",
              "    }\n",
              "    60% {\n",
              "      border-color: transparent;\n",
              "      border-right-color: var(--fill-color);\n",
              "    }\n",
              "    80% {\n",
              "      border-color: transparent;\n",
              "      border-right-color: var(--fill-color);\n",
              "      border-bottom-color: var(--fill-color);\n",
              "    }\n",
              "    90% {\n",
              "      border-color: transparent;\n",
              "      border-bottom-color: var(--fill-color);\n",
              "    }\n",
              "  }\n",
              "</style>\n",
              "\n",
              "  <script>\n",
              "    async function quickchart(key) {\n",
              "      const quickchartButtonEl =\n",
              "        document.querySelector('#' + key + ' button');\n",
              "      quickchartButtonEl.disabled = true;  // To prevent multiple clicks.\n",
              "      quickchartButtonEl.classList.add('colab-df-spinner');\n",
              "      try {\n",
              "        const charts = await google.colab.kernel.invokeFunction(\n",
              "            'suggestCharts', [key], {});\n",
              "      } catch (error) {\n",
              "        console.error('Error during call to suggestCharts:', error);\n",
              "      }\n",
              "      quickchartButtonEl.classList.remove('colab-df-spinner');\n",
              "      quickchartButtonEl.classList.add('colab-df-quickchart-complete');\n",
              "    }\n",
              "    (() => {\n",
              "      let quickchartButtonEl =\n",
              "        document.querySelector('#df-2b7ab868-9f2c-4626-b363-a454989da3d4 button');\n",
              "      quickchartButtonEl.style.display =\n",
              "        google.colab.kernel.accessAllowed ? 'block' : 'none';\n",
              "    })();\n",
              "  </script>\n",
              "</div>\n",
              "    </div>\n",
              "  </div>\n"
            ]
          },
          "metadata": {},
          "execution_count": 12
        }
      ]
    },
    {
      "cell_type": "code",
      "source": [
        "#String para data\n",
        "from datetime import datetime\n",
        "def strToDate(data_string):\n",
        "  formato_data = \"%d/%m/%Y\"\n",
        "  return datetime.strptime(data_string, formato_data)"
      ],
      "metadata": {
        "id": "Pb1XFnBy1K9w"
      },
      "execution_count": 13,
      "outputs": []
    },
    {
      "cell_type": "code",
      "source": [
        "#correção de dados\n",
        "for i in range(len(data_exonerados)):\n",
        "    linha = data_exonerados.iloc[i]\n",
        "\n",
        "\n"
      ],
      "metadata": {
        "id": "HA4rSQV3l9TD"
      },
      "execution_count": 14,
      "outputs": []
    },
    {
      "cell_type": "markdown",
      "source": [
        "Métodos úteis"
      ],
      "metadata": {
        "id": "-Zo8DO_A1MSg"
      }
    },
    {
      "cell_type": "code",
      "source": [
        "#Formatar dias em anos, meses e dias\n",
        "def formatData(dias):\n",
        "    anos = dias // 365\n",
        "    meses = (dias % 365) // 30\n",
        "    dias_restantes = (dias % 365) % 30\n",
        "    return anos, meses, dias_restantes\n",
        "def strToReal(str):\n",
        "  return float(str)\n",
        "\n",
        "def strToInt(str):\n",
        "  return int(str)"
      ],
      "metadata": {
        "id": "KSUENPmO-ysN"
      },
      "execution_count": 15,
      "outputs": []
    },
    {
      "cell_type": "code",
      "execution_count": 16,
      "metadata": {
        "id": "VijO5fqfpc3R"
      },
      "outputs": [],
      "source": [
        "#Classe dos funcionários\n",
        "from datetime import date\n",
        "class Funcionario:\n",
        "  def __init__(self, nome):\n",
        "    self.nome = nome\n",
        "    self.matricula = None\n",
        "    self.cargo = None\n",
        "    #self.data_admissao_date = strToDate(data_admissao_str)\n",
        "    self.data_admissao = None\n",
        "    self.data_demissao = None\n",
        "    #self.data_demissao_date = strToDate(data_demissao_str)\n",
        "    self.tempo_total = None\n",
        "    self.salario_bruto = None\n",
        "    self.salario_liquido = None\n",
        "    self.salario_bruto_ano = {}\n",
        "    self.salario_liquido_ano = {}\n",
        "    self.anos_trabalhados = []\n",
        "  def setMatricula(self,matricula):\n",
        "    self.matricula = strToInt(matricula)\n",
        "\n",
        "  def setDemissao(self,data_demissao):\n",
        "    self.data_demissao = data_demissao\n",
        "\n",
        "  def setCargo(self,cargo):\n",
        "    self.cargo = cargo\n",
        "\n",
        "  def setSalario_ano(self, salario_bruto,salario_liquido,ano):\n",
        "    if ano not in self.anos_trabalhados:\n",
        "      self.salario_bruto_ano[ano] = (strToReal(salario_bruto))\n",
        "      self.salario_liquido_ano[ano] = (strToReal(salario_liquido))\n",
        "      #anos trabalhados serve para consultar apenas os salários recebidos a cada ano\n",
        "      self.anos_trabalhados.append(ano)\n",
        "    #else:\n",
        "\n",
        "  def setTempototal(self):\n",
        "    #print(f\"Demissão em: {self.data_demissao}\")\n",
        "    data_de_hoje = date.today()\n",
        "    data_formatada = data_de_hoje.strftime(\"%d/%m/%Y\")\n",
        "    if self.data_demissao is None:\n",
        "      self.tempo_total = strToDate(data_formatada) - self.data_admissao\n",
        "    else:\n",
        "      self.tempo_total = self.data_demissao - self.data_admissao\n",
        "\n",
        "  def getSalario(self,ano):\n",
        "    return self.salario_bruto_ano[ano],self.salario_liquido_ano[ano]\n",
        "\n",
        "  def getSalariosLiquidos(self):\n",
        "    return self.salario_liquido_ano\n",
        "\n",
        "  def getSalariosBrutos(self):\n",
        "    return self.salario_bruto_ano\n",
        "  def getAnosTrabalhados(self):\n",
        "    return self.anos_trabalhados\n",
        "\n",
        "  def getNome(self):\n",
        "    return self.nome\n",
        "  def setAdmissao(self,data_admissao):\n",
        "    self.data_admissao = data_admissao\n",
        "\n",
        "  def getAdmissao(self):\n",
        "    return self.data_admissao\n",
        "\n",
        "  def getDemissao(self):\n",
        "    return self.data_demissao\n",
        "  def __str__(self):\n",
        "      anos, meses, dias_restantes = formatData(self.tempo_total.days)\n",
        "      admissao_formatada =self.data_admissao.strftime(\"%d/%m/%Y\")\n",
        "\n",
        "      if(data_demissao is not None):\n",
        "        demissao_formatada = self.data_demissao.strftime(\"%d/%m/%Y\")\n",
        "      else:\n",
        "        data_de_hoje = date.today()\n",
        "        demissao_formatada = data_de_hoje.strftime(\"%d/%m/%Y\")\n",
        "\n",
        "      return f\"Nome: {self.nome} \\n{admissao_formatada} - {demissao_formatada}\\n{anos} anos, {meses} meses e {dias_restantes} dias.\"\n"
      ]
    },
    {
      "cell_type": "markdown",
      "source": [
        "Preenchendo classe dos funcionários exonerados"
      ],
      "metadata": {
        "id": "oapm4nBxwWQI"
      }
    },
    {
      "cell_type": "code",
      "source": [
        "from dateutil.relativedelta import relativedelta\n",
        "\n",
        "lista_exonerados = []\n",
        "for i in range(len(data_exonerados)):  # Ou use range(len(df.index)) para iterar pelos índices das linhas\n",
        "    linha = data_exonerados.iloc[i]\n",
        "    #print(f\"Índice: {i}\")\n",
        "    #print(f\"Nome: {linha.iloc[0]}\")  # Acessando a primeira coluna\n",
        "    #print(f\"Sobrenome: {linha.iloc[1]}\")  # Acessando a segunda coluna\n",
        "    #print(f\"Salário: {linha.iloc[2]}\")  # Acessando a terceira coluna\n",
        "    #print()\n",
        "    nome = linha.iloc[0]\n",
        "    data_admissao =  strToDate(linha.iloc[1])\n",
        "    data_demissao =  strToDate(linha.iloc[2])\n",
        "    diferenca = data_demissao - data_admissao\n",
        "    if(diferenca.days<0):\n",
        "      data_admissao = data_demissao\n",
        "    exonerado = Funcionario(nome)\n",
        "    exonerado.setAdmissao(data_admissao)\n",
        "    exonerado.setDemissao(data_demissao)\n",
        "    exonerado.setTempototal()\n",
        "    lista_exonerados.append(exonerado)"
      ],
      "metadata": {
        "id": "KpQKkBWMwVsj"
      },
      "execution_count": 17,
      "outputs": []
    },
    {
      "cell_type": "markdown",
      "source": [
        "Imprimir lista de Funcionários que foram desligados bem como o tempo de serviço"
      ],
      "metadata": {
        "id": "JHX3JZTLCulv"
      }
    },
    {
      "cell_type": "code",
      "source": [
        "for e in lista_exonerados:\n",
        "  #print(f\"Nome: {e.nome}\")\n",
        "  admissao_formatada = e.data_admissao.strftime(\"%d/%m/%Y\")\n",
        "  #print(f\"Entrou em: {admissao_formatada}\")\n",
        "  demissao_formatada = e.data_demissao.strftime(\"%d/%m/%Y\")\n",
        "  #print(f\"Saiu em: {demissao_formatada}\")\n",
        "  e.setTempototal()\n",
        "  anos, meses, dias_restantes = formatData(e.tempo_total.days)\n",
        "  #print(e.tempo_total.days,\" dias\")\n",
        "  #print(f\"Aproximadamente {anos} anos, {meses} meses e {dias_restantes} dias.\")\n",
        "  #print()"
      ],
      "metadata": {
        "id": "G-LxzzY-CoXX"
      },
      "execution_count": 18,
      "outputs": []
    },
    {
      "cell_type": "markdown",
      "source": [
        "Análise estatística"
      ],
      "metadata": {
        "id": "FbHRV6jlC1Sz"
      }
    },
    {
      "cell_type": "code",
      "source": [
        "#calcular rotatividade\n",
        "def calcRotatividade(deixaram,total):\n",
        "  if(total == 0):\n",
        "    return 0\n",
        "  return (float(deixaram/total))*100"
      ],
      "metadata": {
        "id": "vLjM5flDDgC-"
      },
      "execution_count": 19,
      "outputs": []
    },
    {
      "cell_type": "code",
      "source": [
        "#obtém as estatísticas\n",
        "import sys\n",
        "tempos = 0\n",
        "min = sys.maxsize\n",
        "max = 0\n",
        "\n",
        "for e in lista_exonerados:\n",
        "  tempos = tempos + e.tempo_total.days\n",
        "  #obtem o maior valor\n",
        "  if(e.tempo_total.days>max):\n",
        "    maisvelho = e\n",
        "    max = e.tempo_total.days\n",
        "  if(e.tempo_total.days<min):\n",
        "    maisnovo = e\n",
        "    min = e.tempo_total.days\n",
        "tempo_medio = tempos/len(lista_exonerados)\n",
        "print(\"Maior tempo na rede:\")\n",
        "print(maisvelho)\n",
        "print()\n",
        "print(\"Menor tempo na rede:\")\n",
        "print(maisnovo)\n",
        "print()\n",
        "anos, meses, dias_restantes = formatData(round(tempo_medio))\n",
        "print(f\"Tempo Médio aproximado de permanência na rede é de {anos} anos, {meses} meses e {dias_restantes} dias.\")"
      ],
      "metadata": {
        "colab": {
          "base_uri": "https://localhost:8080/"
        },
        "id": "NujlIcwZC1I2",
        "outputId": "c1ec7294-d732-4ae9-aa73-171a401fd960"
      },
      "execution_count": 20,
      "outputs": [
        {
          "output_type": "stream",
          "name": "stdout",
          "text": [
            "Maior tempo na rede:\n",
            "Nome: DIRCEU GONCALVES PADILHA \n",
            "23/08/1971 - 29/02/2012\n",
            "40 anos, 6 meses e 20 dias.\n",
            "\n",
            "Menor tempo na rede:\n",
            "Nome: AMAURI MARCONDES DE OLIVEIRA \n",
            "31/03/1991 - 31/03/1991\n",
            "0 anos, 0 meses e 0 dias.\n",
            "\n",
            "Tempo Médio aproximado de permanência na rede é de 3 anos, 5 meses e 0 dias.\n"
          ]
        }
      ]
    },
    {
      "cell_type": "code",
      "source": [
        "caminho_atual = \"/content/drive/MyDrive/Dados/Servidores/Relação de Efetivos - Relatório .csv\"\n",
        "data_atual = pd.read_csv(caminho_atual,sep=\",\",encoding=\"utf-8\",error_bad_lines=False)\n",
        "#data_atual.head()"
      ],
      "metadata": {
        "colab": {
          "base_uri": "https://localhost:8080/"
        },
        "id": "Ljq82dFpP2y3",
        "outputId": "2ccf34be-cc73-4986-c615-4b066497ec30"
      },
      "execution_count": 21,
      "outputs": [
        {
          "output_type": "stream",
          "name": "stderr",
          "text": [
            "<ipython-input-21-498b71324c8c>:2: FutureWarning: The error_bad_lines argument has been deprecated and will be removed in a future version. Use on_bad_lines in the future.\n",
            "\n",
            "\n",
            "  data_atual = pd.read_csv(caminho_atual,sep=\",\",encoding=\"utf-8\",error_bad_lines=False)\n"
          ]
        }
      ]
    },
    {
      "cell_type": "markdown",
      "source": [
        "Preencher Dados da Lista Atual"
      ],
      "metadata": {
        "id": "RoEEIdSRQjDP"
      }
    },
    {
      "cell_type": "code",
      "source": [
        "from dateutil.relativedelta import relativedelta\n",
        "\n",
        "lista_atual = []\n",
        "for i in range(len(data_atual)):  # Ou use range(len(df.index)) para iterar pelos índices das linhas\n",
        "    linha = data_atual.iloc[i]\n",
        "    #print(f\"Índice: {i}\")\n",
        "    #print(f\"Nome: {linha.iloc[0]}\")  # Acessando a primeira coluna\n",
        "    #print(f\"Sobrenome: {linha.iloc[1]}\")  # Acessando a segunda coluna\n",
        "    #print(f\"Salário: {linha.iloc[2]}\")  # Acessando a terceira coluna\n",
        "    #print()\n",
        "    nome = linha.iloc[0]\n",
        "    data_admissao =  strToDate(linha.iloc[1])\n",
        "    if(diferenca.days<0):\n",
        "      data_admissao = data_demissao\n",
        "    funcionario_ativo = Funcionario(nome)\n",
        "    funcionario_ativo.setAdmissao(data_admissao)\n",
        "    lista_atual.append(funcionario_ativo)"
      ],
      "metadata": {
        "id": "b33nrbuFQirr"
      },
      "execution_count": 22,
      "outputs": []
    },
    {
      "cell_type": "markdown",
      "source": [
        "Imprimir lista de Funcionários em atividade"
      ],
      "metadata": {
        "id": "OWeDpf73RBgK"
      }
    },
    {
      "cell_type": "code",
      "source": [
        "for e in lista_atual:\n",
        "  #print(f\"Nome: {e.nome}\")\n",
        "  admissao_formatada = e.data_admissao.strftime(\"%d/%m/%Y\")\n",
        "  #print(f\"Entrou em: {admissao_formatada}\")\n",
        "  e.setTempototal()\n",
        "  anos, meses, dias_restantes = formatData(e.tempo_total.days)\n",
        "  #print(e.tempo_total.days,\" dias\")\n",
        "  #print(f\"Aproximadamente {anos} anos, {meses} meses e {dias_restantes} dias.\")\n",
        "  #print()"
      ],
      "metadata": {
        "id": "F-vb97W4Q87w"
      },
      "execution_count": 23,
      "outputs": []
    },
    {
      "cell_type": "markdown",
      "source": [
        "Unir Exonerados e em Atividade"
      ],
      "metadata": {
        "id": "8g24hKLuUca0"
      }
    },
    {
      "cell_type": "code",
      "source": [
        "#junta listas\n",
        "relacao_funcionarios =  lista_exonerados + lista_atual\n",
        "#for f in relacao_funcionarios:\n",
        "#  print(f\"Nome: {f.nome}        Data de Admissão: {f.data_admissao}\")"
      ],
      "metadata": {
        "id": "0iWP-GoCUbjH"
      },
      "execution_count": 24,
      "outputs": []
    },
    {
      "cell_type": "code",
      "source": [
        "#calcular a rotatividade para cada ano considerando apenas os exonerados\n",
        "primeiro_ano = 2023\n",
        "ultimo_ano = 0\n",
        "total_anterior=0\n",
        "total_entrada=0\n",
        "total_saida=0\n",
        "\n",
        "ano_quantidade_entrada = {}\n",
        "ano_quantidade_saida = {}\n",
        "for e in lista_exonerados:\n",
        "    ano_admissao = e.getAdmissao().year\n",
        "    ano_demissao = e.getDemissao().year\n",
        "    if(ano_admissao < primeiro_ano):\n",
        "      primeiro_ano = ano_admissao\n",
        "    if(ano_demissao > ultimo_ano):\n",
        "      ultimo_ano = ano_demissao\n",
        "    if ano_admissao in ano_quantidade_entrada:\n",
        "        ano_quantidade_entrada[ano_admissao] = ano_quantidade_entrada[ano_admissao] + 1\n",
        "    else:\n",
        "        ano_quantidade_entrada[ano_admissao] = 1\n",
        "\n",
        "    if ano_demissao in ano_quantidade_saida:\n",
        "        ano_quantidade_saida[ano_demissao] = ano_quantidade_saida[ano_demissao] + 1\n",
        "    else:\n",
        "        ano_quantidade_saida[ano_demissao] = 1\n",
        "#print(ano_quantidade_entrada)\n",
        "# Ordenar o dicionário com base nos valores em ordem crescente\n",
        "entrada_ordenada = dict(sorted(ano_quantidade_entrada.items(), key=lambda item: item[0]))\n",
        "saida_ordenada = dict(sorted(ano_quantidade_saida.items(), key=lambda item: item[0]))\n",
        "#print(primeiro_ano)\n",
        "#print(ultimo_ano)\n",
        "\n",
        "for chave in range(primeiro_ano,ultimo_ano+1,1):\n",
        "  entrada = 0\n",
        "  saida = 0\n",
        "  if(chave in ano_quantidade_entrada):\n",
        "    entrada = ano_quantidade_entrada[chave]\n",
        "  else:\n",
        "    entrada = 0\n",
        "  if(chave in ano_quantidade_saida):\n",
        "    saida = ano_quantidade_saida[chave]\n",
        "  else:\n",
        "    saida = 0\n",
        "\n",
        "  total_entrada = total_entrada + entrada\n",
        "  total_anterior = total_entrada-total_saida\n",
        "\n",
        "  total_saida = total_saida + saida\n",
        "  #if(entrada>0 or saida>0):\n",
        "\n",
        "    #print(f\"No ano de {chave} entraram {entrada} funcionários e saíram {saida} funcionários\")\n",
        "    #print(f\"Total acumulado: {total_entrada-total_saida} funcionários\")\n",
        "    #print(f\"Taxa de rotatividade no ano {chave}: {round(calcRotatividade(saida,total_anterior))}%\")\n",
        "  entrada = 0\n",
        "  saida = 0\n",
        "  #print()\n",
        "\n",
        "# Exibir o dicionário ordenado\n",
        "#print(dicionario_ordenado)\n",
        "total_entrada = 0\n",
        "total_saida = 0\n",
        "\n"
      ],
      "metadata": {
        "id": "G7HNpIy9ydCP"
      },
      "execution_count": 25,
      "outputs": []
    },
    {
      "cell_type": "code",
      "source": [
        "#calcular a rotatividade para cada ano considerando todos\n",
        "primeiro_ano = datetime.now().year\n",
        "ultimo_ano =  datetime.now().year\n",
        "total_anterior=0\n",
        "total_entrada=0\n",
        "total_saida=0\n",
        "tempos=0\n",
        "tempo_medio = 0\n",
        "ano_quantidade_entrada = {}\n",
        "ano_quantidade_saida = {}\n",
        "min = sys.maxsize\n",
        "max = 0\n",
        "tempos_medios = []\n",
        "for e in relacao_funcionarios:\n",
        "    tempos = tempos + e.tempo_total.days\n",
        "    #print(tempos)\n",
        "    ano_admissao = e.getAdmissao().year\n",
        "    if e.getDemissao() is None:\n",
        "      ano_demissao = datetime.now().year+1\n",
        "    else:\n",
        "        ano_demissao = e.getDemissao().year\n",
        "\n",
        "    if(ano_admissao < primeiro_ano):\n",
        "      primeiro_ano = ano_admissao\n",
        "    #if(ano_demissao > ultimo_ano):\n",
        "    #  ultimo_ano = ano_demissao\n",
        "    if(e.tempo_total.days>max):\n",
        "      maisvelho = e\n",
        "      max = e.tempo_total.days\n",
        "    if(e.tempo_total.days<min):\n",
        "      maisnovo = e\n",
        "      min = e.tempo_total.days\n",
        "\n",
        "    if ano_admissao in ano_quantidade_entrada:\n",
        "        ano_quantidade_entrada[ano_admissao] = ano_quantidade_entrada[ano_admissao] + 1\n",
        "    else:\n",
        "        ano_quantidade_entrada[ano_admissao] = 1\n",
        "\n",
        "    if ano_demissao in ano_quantidade_saida:\n",
        "        ano_quantidade_saida[ano_demissao] = ano_quantidade_saida[ano_demissao] + 1\n",
        "    else:\n",
        "        ano_quantidade_saida[ano_demissao] = 1\n",
        "\n",
        "tempo_medio = tempos/len(relacao_funcionarios)\n",
        "#tempos_medios.append(tempo_medio)\n",
        "#print(ano_quantidade_entrada)\n",
        "# Ordenar o dicionário com base nos valores em ordem crescente\n",
        "entrada_ordenada = dict(sorted(ano_quantidade_entrada.items(), key=lambda item: item[0]))\n",
        "saida_ordenada = dict(sorted(ano_quantidade_saida.items(), key=lambda item: item[0]))\n",
        "#print(primeiro_ano)\n",
        "#print(ultimo_ano)\n",
        "total_acumulado={}\n",
        "taxa_rotatividade_ano={}\n",
        "anos_relevantes = []\n",
        "for chave in range(primeiro_ano,ultimo_ano+1,1):\n",
        "  entrada = 0\n",
        "  saida = 0\n",
        "  if(chave in ano_quantidade_entrada):\n",
        "    entrada = ano_quantidade_entrada[chave]\n",
        "  else:\n",
        "    entrada = 0\n",
        "  if(chave in ano_quantidade_saida):\n",
        "    saida = ano_quantidade_saida[chave]\n",
        "  else:\n",
        "    saida = 0\n",
        "  total_anterior = total_entrada-total_saida\n",
        "  total_entrada = total_entrada + entrada\n",
        "  total_saida = total_saida + saida\n",
        "  if(entrada>0 or saida>0):\n",
        "    anos_relevantes.append(chave)\n",
        "    #print(f\"No ano de {chave} entraram {entrada} funcionários e saíram {saida} funcionários\")\n",
        "    #print(f\"Total acumulado: {total_entrada-total_saida} funcionários\")\n",
        "    total_acumulado[chave] = total_entrada-total_saida\n",
        "    #print(f\"Taxa de rotatividade no ano {chave}: {round(calcRotatividade(saida,total_anterior))}%\")\n",
        "    taxa_rotatividade_ano[chave] = round(calcRotatividade(saida,total_anterior))\n",
        "  entrada = 0\n",
        "  saida = 0\n",
        "  #print()\n",
        "\n",
        "# Exibir o dicionário ordenado\n",
        "#print(dicionario_ordenado)\n",
        "total_entrada = 0\n",
        "total_saida = 0\n",
        "\n",
        "#print(anos_relevantes)"
      ],
      "metadata": {
        "id": "S5nSfFoEW4Cw"
      },
      "execution_count": 26,
      "outputs": []
    },
    {
      "cell_type": "code",
      "source": [
        "import operator\n",
        "import sys\n",
        "#print(taxa_rotatividade_ano)\n",
        "#print(total_acumulado)\n",
        "ano_menor_qtd = 0\n",
        "ano_maior_qtd = 0\n",
        "maior_qtd = 0\n",
        "menor_qtd = sys.maxsize\n",
        "\n",
        "for a,v in total_acumulado.items():\n",
        "  if(v>maior_qtd):\n",
        "    ano_maior_qtd = a\n",
        "    maior_qtd = v\n",
        "  if(v<menor_qtd):\n",
        "    ano_menor_qtd = a\n",
        "    menor_qtd = v\n",
        "\n",
        "\n",
        "#print(f\"O ano {ano_maior_qtd} teve {maior_qtd} funcionários e o ano {ano_menor_qtd} teve {menor_qtd} funcionários\")\n",
        "#print(\"Ano  |Nº de Funcionários  |Rotatividade\")\n",
        "taxa_media = 0\n",
        "for ano in anos_relevantes:\n",
        "  taxa_media = taxa_media + taxa_rotatividade_ano[ano]\n",
        "  #print(f\"{ano} |{total_acumulado[ano]:03d}                 |{taxa_rotatividade_ano[ano]:02d}%\")\n",
        "print()\n",
        "taxa_media = taxa_media/len(taxa_rotatividade_ano)\n",
        "print(f\"A taxa de Rotatividade média é de {round(taxa_media)}%\")\n",
        "anos, meses, dias_restantes = formatData(round(tempo_medio))\n",
        "print(f\"Tempo médio de permanência é de aproximadamente {anos} anos, {meses} meses e {dias_restantes} dias.\")\n",
        "print()\n",
        "print(\"Maior tempo na rede:\")\n",
        "print(maisvelho)\n",
        "print()\n",
        "print(\"Menor tempo na rede:\")\n",
        "print(maisnovo)\n"
      ],
      "metadata": {
        "id": "NzpVN7WJiQXk",
        "colab": {
          "base_uri": "https://localhost:8080/"
        },
        "outputId": "e6765d02-8005-4b7f-e115-bd4530837043"
      },
      "execution_count": 27,
      "outputs": [
        {
          "output_type": "stream",
          "name": "stdout",
          "text": [
            "\n",
            "A taxa de Rotatividade média é de 14%\n",
            "Tempo médio de permanência é de aproximadamente 4 anos, 8 meses e 8 dias.\n",
            "\n",
            "Maior tempo na rede:\n",
            "Nome: DIRCEU GONCALVES PADILHA \n",
            "23/08/1971 - 29/02/2012\n",
            "40 anos, 6 meses e 20 dias.\n",
            "\n",
            "Menor tempo na rede:\n",
            "Nome: AMAURI MARCONDES DE OLIVEIRA \n",
            "31/03/1991 - 31/03/1991\n",
            "0 anos, 0 meses e 0 dias.\n"
          ]
        }
      ]
    },
    {
      "cell_type": "code",
      "source": [
        "import matplotlib.pyplot as plt\n",
        "estatisticas =[total_acumulado, taxa_rotatividade_ano]\n",
        "df = pd.DataFrame(estatisticas)\n",
        "df = df.rename(index={0: \"Número de Funcionários\", 1: \"Taxa de Rotatividade\"})\n",
        "\n",
        "# Exiba o DataFrame\n",
        "#print(df)"
      ],
      "metadata": {
        "id": "CqePb0ToT2Ce"
      },
      "execution_count": 28,
      "outputs": []
    },
    {
      "cell_type": "markdown",
      "source": [
        "Evolução Salarial dos Instrutores de Informática desde 2016 (conforme dados disponíveis)\n"
      ],
      "metadata": {
        "id": "-V-HkToEXJC5"
      }
    },
    {
      "cell_type": "code",
      "source": [
        "def obter_ano(dicionario):\n",
        "    anos = list(dicionario['Salario'].keys())\n",
        "    # Se o dicionário 'Salario' estiver vazio, retorne 0 para manter a ordem\n",
        "    if anos:\n",
        "        return int(anos[0])\n",
        "    else:\n",
        "        return 0\n",
        "\n",
        "\n",
        "def geradorGrafico():\n",
        "  inicial = indices_encontrados[0]\n",
        "  final = indices_encontrados[len(indices_encontrados)-1]\n",
        "  funcionarios_pesquisados = []\n",
        "  #print(inicial, final)\n",
        "  for indice in indices_encontrados:\n",
        "      if indice < len(funcionarios_df):\n",
        "          elemento = funcionarios_df[indice]\n",
        "          funcionarios_pesquisados.append(elemento)\n",
        "\n",
        "\n",
        "\n",
        "  # Ordene a lista de dicionários com base no ano de 'Salario'\n",
        "  funcionarios_pesquisados_ordem = sorted(funcionarios_pesquisados, key=obter_ano)\n",
        "  #print(funcionarios_pesquisados)\n",
        "  #print(funcionarios_pesquisados_ordem)\n",
        "  #df = pd.DataFrame(funcionarios_df)\n",
        "  df = pd.DataFrame(funcionarios_pesquisados_ordem)\n",
        "  # Para expandir os dados dos salários em colunas separadas, você pode usar o método .apply\n",
        "  df = df.join(df['Salario'].apply(pd.Series))\n",
        "  df.drop(columns=['Salario'], inplace=True)  # Remove a coluna 'Salario'\n",
        "\n",
        "  # Exiba o DataFrame\n",
        "  print(df)\n",
        "  df.set_index('Nome', inplace=True)\n",
        "\n",
        "  # Transponha o DataFrame para que os anos se tornem índices\n",
        "  df = df.transpose()\n",
        "\n",
        "  # Plote um gráfico de linha para cada nome\n",
        "  df.plot(kind='line', marker='o')\n",
        "  plt.title(\"Evolução dos Salários ao Longo dos Anos\")\n",
        "  plt.xlabel(\"Ano\")\n",
        "  plt.ylabel(\"Salário\")\n",
        "  plt.grid(True)\n",
        "\n",
        "  # Exiba o gráfico\n",
        "  plt.legend(title='Nome')\n",
        "\n",
        "  plt.show()"
      ],
      "metadata": {
        "id": "sMJNe0Uwb97Q"
      },
      "execution_count": 29,
      "outputs": []
    },
    {
      "cell_type": "code",
      "source": [
        "import csv\n",
        "from itertools import groupby\n",
        "import matplotlib.pyplot as plt\n",
        "caminho_salarios = \"/content/drive/MyDrive/Dados/Servidores/Relação ServidorXSalário - Relação ServidorXSalário.csv\"\n",
        "#data_salarios = pd.read_csv(caminho_salarios,sep=\",\",encoding=\"utf-8\",error_bad_lines=False)\n",
        "#data_salarios.head()\n",
        "\n",
        "funcionarios = []\n",
        "\n",
        "# Abra o arquivo CSV a partir do Google Drive\n",
        "with open(caminho_salarios, newline='',encoding=\"utf-8\") as arquivo_csv:\n",
        "    leitor_csv = csv.DictReader(arquivo_csv)\n",
        "\n",
        "    # Itere pelas linhas do arquivo CSV\n",
        "    for linha in leitor_csv:\n",
        "        funcionarios.append(linha)\n",
        "\n",
        "# Agora, a lista funcionarios contém os dados do arquivo CSV do Google Drive\n",
        "#for funcionario in funcionarios:\n",
        "#    print(f\"Nome: {funcionario['Nome Funcionário']}, Salário Bruto: {funcionario['Salário Bruto']}, Salário Liquido: {funcionario['Salário Líquido']},{funcionario['Ano']} \")\n",
        "\n",
        "funcionarios_ordenados = sorted(funcionarios, key=lambda x: x[\"Nome Funcionário\"])\n",
        "#for funcionario in funcionarios_ordenados:\n",
        "#   print(f\"Nome: {funcionario['Nome Funcionário']}, Salário Bruto: {funcionario['Salário Bruto']}, Salário Liquido: {funcionario['Salário Líquido']},{funcionario['Ano']} \")\n",
        "grupos = groupby(funcionarios_ordenados, key=lambda x: x[\"Nome Funcionário\"])\n",
        "lista_funcionarios_salario = []\n",
        "# Itere pelos grupos e imprima os funcionários por nome\n",
        "for nome, funcionarios_no_grupo in grupos:\n",
        "    #print(f\"Funcionários com nome '{nome}':\")\n",
        "    f = Funcionario(nome)\n",
        "\n",
        "    for funcionario in funcionarios_no_grupo:\n",
        "        #print(f\"- Salario Bruto:  {funcionario['Salário Bruto']}, Salário Liquido: {funcionario['Salário Líquido']} em {funcionario['Ano']}\")\n",
        "        f.setSalario_ano(funcionario['Salário Bruto'],funcionario['Salário Líquido'], funcionario['Ano'])\n",
        "    lista_funcionarios_salario.append(f)\n",
        "    #print()\n",
        "funcionarios_df = []\n",
        "aux = 0\n",
        "for elemento in lista_funcionarios_salario:\n",
        "  #print(elemento)\n",
        "  #aux = aux + 1\n",
        "\n",
        "  func ={\"Nome\":elemento.getNome(),\"Salario\":elemento.getSalariosLiquidos()}\n",
        "  funcionarios_df.append(func)\n",
        "#print(funcionarios_df)\n",
        "\n",
        "#print(lista)\n",
        "#for lista in lista_funcionarios_salario:\n",
        "  #print(lista.getNome())\n",
        "  #print(lista.getSalariosLiquidos())\n",
        "#funcionarios_exemplo = {\n",
        " #   \"Funcionário 1\": {2016: 50000, 2017: 52000, 2018: 54000, 2019: 56000, 2020: 58000, 2021: 60000, 2022: 62000, 2023: 64000},\n",
        " #   \"Funcionário 2\": {2016: 45000, 2017: 47000, 2018: 49000, 2019: 51000, 2020: 53000, 2021: 55000, 2022: 57000, 2023: 59000}\n",
        "#}\n",
        "\n",
        "nome_pesquisado = input(\"Digite o nome que deseja pesquisar: \")\n",
        "nome_pesquisado = nome_pesquisado.upper()\n",
        "indices_encontrados = []\n",
        "\n",
        "# Itera sobre os dicionários na lista e rastreia os índices que contêm a substring\n",
        "for indice, item in enumerate(funcionarios_df):\n",
        "    if 'Nome' in item and nome_pesquisado in item['Nome']:\n",
        "        indices_encontrados.append(indice)\n",
        "\n",
        "if indices_encontrados:\n",
        "    #print(f'A substring \"{nome_pesquisado}\" foi encontrada nos seguintes índices: {indices_encontrados}')\n",
        "    geradorGrafico()\n",
        "else:\n",
        "    print(f'A substring \"{nome_pesquisado}\" não foi encontrada em nenhum dicionário.')"
      ],
      "metadata": {
        "id": "LME9GBOiXIy9",
        "colab": {
          "base_uri": "https://localhost:8080/",
          "height": 611
        },
        "outputId": "06808dec-dc65-4caf-d886-311f806ae2b2"
      },
      "execution_count": 30,
      "outputs": [
        {
          "output_type": "stream",
          "name": "stdout",
          "text": [
            "Digite o nome que deseja pesquisar: sirlei soares\n",
            "                       Nome     2016     2017     2018     2019      2020  \\\n",
            "0   SIRLEI SOARES DE AGUIAR  4061.91  4185.51  4330.87  3217.87  12221.90   \n",
            "1  SIRLEI SOARES DOS SANTOS  1215.38  1391.74  1669.45  1810.59   1986.14   \n",
            "\n",
            "      2021     2022     2023  \n",
            "0  5380.53  5236.49  7759.62  \n",
            "1  2030.10  2073.13  3069.58  \n"
          ]
        },
        {
          "output_type": "display_data",
          "data": {
            "text/plain": [
              "<Figure size 640x480 with 1 Axes>"
            ],
            "image/png": "[encoded data removed]"
          },
          "metadata": {}
        }
      ]
    }
  ]
}