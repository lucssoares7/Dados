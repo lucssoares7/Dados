{
  "nbformat": 4,
  "nbformat_minor": 0,
  "metadata": {
    "colab": {
      "provenance": [],
      "mount_file_id": "1Q6o7Wf47R-tcmx50AuYHjdJlnDY5CRWc",
      "authorship_tag": "ABX9TyPYLcToxpBslC1GK3R1LLtE",
      "include_colab_link": true
    },
    "kernelspec": {
      "name": "python3",
      "display_name": "Python 3"
    },
    "language_info": {
      "name": "python"
    }
  },
  "cells": [
    {
      "cell_type": "markdown",
      "metadata": {
        "id": "view-in-github",
        "colab_type": "text"
      },
      "source": [
        "<a href=\"https://colab.research.google.com/github/lucssoares7/Dados/blob/analise_exploratoria/Analise_de_Dados_Instrutores.ipynb\" target=\"_parent\"><img src=\"https://colab.research.google.com/assets/colab-badge.svg\" alt=\"Open In Colab\"/></a>"
      ]
    },
    {
      "cell_type": "markdown",
      "source": [
        "Análise de Dados do tempo de serviço e evolução salarial desde 2016 (conforme dados disponíveis no portal da transparência)  no cargo de \"Instrutor de Informática\" na Prefeitura Municipal de Cascavel - PR\n",
        "\n",
        "Dados disponíveis em: https://cascavel.atende.net/transparencia"
      ],
      "metadata": {
        "id": "3GWkUuwGpeMb"
      }
    },
    {
      "cell_type": "markdown",
      "source": [
        "Carregando Dados dos Funcionários Exonerados\n"
      ],
      "metadata": {
        "id": "tsXLifDUvcXQ"
      }
    },
    {
      "cell_type": "code",
      "source": [
        "import pandas as pd\n",
        "import numpy as np\n",
        "import matplotlib.pyplot as plt\n",
        "\n",
        "from google.colab import drive\n",
        "drive.mount('/content/drive')\n",
        "\n",
        "caminho_exonerados = \"/content/drive/MyDrive/Dados/Instrutores/Exonerados.csv\"\n",
        "data_exonerados = pd.read_csv(caminho_exonerados,sep=\",\",encoding=\"utf-8\",error_bad_lines=False)\n",
        "#data_exonerados.head()\n"
      ],
      "metadata": {
        "colab": {
          "base_uri": "https://localhost:8080/"
        },
        "id": "RZnSTDjVvbWq",
        "outputId": "15c0dfe6-c0dd-4588-ea45-db35661a9d41"
      },
      "execution_count": null,
      "outputs": [
        {
          "output_type": "stream",
          "name": "stdout",
          "text": [
            "Drive already mounted at /content/drive; to attempt to forcibly remount, call drive.mount(\"/content/drive\", force_remount=True).\n"
          ]
        },
        {
          "output_type": "stream",
          "name": "stderr",
          "text": [
            "<ipython-input-175-4c5abfd887dc>:9: FutureWarning: The error_bad_lines argument has been deprecated and will be removed in a future version. Use on_bad_lines in the future.\n",
            "\n",
            "\n",
            "  data_exonerados = pd.read_csv(caminho_exonerados,sep=\",\",encoding=\"utf-8\",error_bad_lines=False)\n"
          ]
        }
      ]
    },
    {
      "cell_type": "code",
      "source": [
        "#String para data\n",
        "from datetime import datetime\n",
        "def strToDate(data_string):\n",
        "  formato_data = \"%d/%m/%Y\"\n",
        "  return datetime.strptime(data_string, formato_data)"
      ],
      "metadata": {
        "id": "Pb1XFnBy1K9w"
      },
      "execution_count": null,
      "outputs": []
    },
    {
      "cell_type": "code",
      "source": [
        "#correção de dados\n",
        "for i in range(len(data_exonerados)):\n",
        "    linha = data_exonerados.iloc[i]\n",
        "\n",
        "\n"
      ],
      "metadata": {
        "id": "HA4rSQV3l9TD"
      },
      "execution_count": null,
      "outputs": []
    },
    {
      "cell_type": "markdown",
      "source": [
        "Métodos úteis"
      ],
      "metadata": {
        "id": "-Zo8DO_A1MSg"
      }
    },
    {
      "cell_type": "code",
      "source": [
        "#Formatar dias em anos, meses e dias\n",
        "def formatData(dias):\n",
        "    anos = dias // 365\n",
        "    meses = (dias % 365) // 30\n",
        "    dias_restantes = (dias % 365) % 30\n",
        "    return anos, meses, dias_restantes\n",
        "def strToReal(str):\n",
        "  return float(str)"
      ],
      "metadata": {
        "id": "KSUENPmO-ysN"
      },
      "execution_count": null,
      "outputs": []
    },
    {
      "cell_type": "code",
      "execution_count": null,
      "metadata": {
        "id": "VijO5fqfpc3R"
      },
      "outputs": [],
      "source": [
        "#Classe dos funcionários\n",
        "from datetime import date\n",
        "class Funcionario:\n",
        "  def __init__(self, nome):\n",
        "    self.nome = nome\n",
        "    #self.data_admissao_date = strToDate(data_admissao_str)\n",
        "    self.data_admissao = None\n",
        "    self.data_demissao = None\n",
        "    #self.data_demissao_date = strToDate(data_demissao_str)\n",
        "    self.tempo_total = None\n",
        "    self.salario_bruto = None\n",
        "    self.salario_liquido = None\n",
        "    self.salario_bruto_ano = {}\n",
        "    self.salario_liquido_ano = {}\n",
        "    self.anos_trabalhados = []\n",
        "\n",
        "  def setDemissao(self,data_demissao):\n",
        "    self.data_demissao = data_demissao\n",
        "\n",
        "  def setSalario_ano(self, salario_bruto,salario_liquido,ano):\n",
        "    if ano not in self.anos_trabalhados:\n",
        "      self.salario_bruto_ano[ano] = (strToReal(salario_bruto))\n",
        "      self.salario_liquido_ano[ano] = (strToReal(salario_liquido))\n",
        "      #anos trabalhados serve para consultar apenas os salários recebidos a cada ano\n",
        "      self.anos_trabalhados.append(ano)\n",
        "    #else:\n",
        "\n",
        "  def setTempototal(self):\n",
        "    #print(f\"Demissão em: {self.data_demissao}\")\n",
        "    data_de_hoje = date.today()\n",
        "    data_formatada = data_de_hoje.strftime(\"%d/%m/%Y\")\n",
        "    if self.data_demissao is None:\n",
        "      self.tempo_total = strToDate(data_formatada) - self.data_admissao\n",
        "    else:\n",
        "      self.tempo_total = self.data_demissao - self.data_admissao\n",
        "\n",
        "  def getSalario(self,ano):\n",
        "    return self.salario_bruto_ano[ano],self.salario_liquido_ano[ano]\n",
        "\n",
        "  def getSalariosLiquidos(self):\n",
        "    return self.salario_liquido_ano\n",
        "\n",
        "  def getSalariosBrutos(self):\n",
        "    return self.salario_bruto_ano\n",
        "  def getAnosTrabalhados(self):\n",
        "    return self.anos_trabalhados\n",
        "\n",
        "  def getNome(self):\n",
        "    return self.nome\n",
        "  def setAdmissao(self,data_admissao):\n",
        "    self.data_admissao = data_admissao\n",
        "\n",
        "  def getAdmissao(self):\n",
        "    return self.data_admissao\n",
        "\n",
        "  def getDemissao(self):\n",
        "    return self.data_demissao\n",
        "  def __str__(self):\n",
        "      anos, meses, dias_restantes = formatData(self.tempo_total.days)\n",
        "      admissao_formatada =self.data_admissao.strftime(\"%d/%m/%Y\")\n",
        "\n",
        "      if(data_demissao is not None):\n",
        "        demissao_formatada = self.data_demissao.strftime(\"%d/%m/%Y\")\n",
        "      else:\n",
        "        data_de_hoje = date.today()\n",
        "        demissao_formatada = data_de_hoje.strftime(\"%d/%m/%Y\")\n",
        "\n",
        "      return f\"Nome: {self.nome} \\n{admissao_formatada} - {demissao_formatada}\\n{anos} anos, {meses} meses e {dias_restantes} dias.\"\n"
      ]
    },
    {
      "cell_type": "markdown",
      "source": [
        "Preenchendo classe dos funcionários exonerados"
      ],
      "metadata": {
        "id": "oapm4nBxwWQI"
      }
    },
    {
      "cell_type": "code",
      "source": [
        "from dateutil.relativedelta import relativedelta\n",
        "\n",
        "lista_exonerados = []\n",
        "for i in range(len(data_exonerados)):  # Ou use range(len(df.index)) para iterar pelos índices das linhas\n",
        "    linha = data_exonerados.iloc[i]\n",
        "    #print(f\"Índice: {i}\")\n",
        "    #print(f\"Nome: {linha.iloc[0]}\")  # Acessando a primeira coluna\n",
        "    #print(f\"Sobrenome: {linha.iloc[1]}\")  # Acessando a segunda coluna\n",
        "    #print(f\"Salário: {linha.iloc[2]}\")  # Acessando a terceira coluna\n",
        "    #print()\n",
        "    nome = linha.iloc[0]\n",
        "    data_admissao =  strToDate(linha.iloc[1])\n",
        "    data_demissao =  strToDate(linha.iloc[2])\n",
        "    diferenca = data_demissao - data_admissao\n",
        "    if(diferenca.days<0):\n",
        "      data_admissao = data_demissao\n",
        "    exonerado = Funcionario(nome)\n",
        "    exonerado.setAdmissao(data_admissao)\n",
        "    exonerado.setDemissao(data_demissao)\n",
        "    exonerado.setTempototal()\n",
        "    lista_exonerados.append(exonerado)"
      ],
      "metadata": {
        "id": "KpQKkBWMwVsj"
      },
      "execution_count": null,
      "outputs": []
    },
    {
      "cell_type": "markdown",
      "source": [
        "Imprimir lista de Funcionários que foram desligados bem como o tempo de serviço"
      ],
      "metadata": {
        "id": "JHX3JZTLCulv"
      }
    },
    {
      "cell_type": "code",
      "source": [
        "for e in lista_exonerados:\n",
        "  #print(f\"Nome: {e.nome}\")\n",
        "  admissao_formatada = e.data_admissao.strftime(\"%d/%m/%Y\")\n",
        "  #print(f\"Entrou em: {admissao_formatada}\")\n",
        "  demissao_formatada = e.data_demissao.strftime(\"%d/%m/%Y\")\n",
        "  #print(f\"Saiu em: {demissao_formatada}\")\n",
        "  e.setTempototal()\n",
        "  anos, meses, dias_restantes = formatData(e.tempo_total.days)\n",
        "  #print(e.tempo_total.days,\" dias\")\n",
        "  #print(f\"Aproximadamente {anos} anos, {meses} meses e {dias_restantes} dias.\")\n",
        "  #print()"
      ],
      "metadata": {
        "id": "G-LxzzY-CoXX"
      },
      "execution_count": null,
      "outputs": []
    },
    {
      "cell_type": "markdown",
      "source": [
        "Análise estatística"
      ],
      "metadata": {
        "id": "FbHRV6jlC1Sz"
      }
    },
    {
      "cell_type": "code",
      "source": [
        "#calcular rotatividade\n",
        "def calcRotatividade(deixaram,total):\n",
        "  if(total == 0):\n",
        "    return 0\n",
        "  return (float(deixaram/total))*100"
      ],
      "metadata": {
        "id": "vLjM5flDDgC-"
      },
      "execution_count": null,
      "outputs": []
    },
    {
      "cell_type": "code",
      "source": [
        "#obtém as estatísticas\n",
        "import sys\n",
        "tempos = 0\n",
        "min = sys.maxsize\n",
        "max = 0\n",
        "\n",
        "for e in lista_exonerados:\n",
        "  tempos = tempos + e.tempo_total.days\n",
        "  #obtem o maior valor\n",
        "  if(e.tempo_total.days>max):\n",
        "    maisvelho = e\n",
        "    max = e.tempo_total.days\n",
        "  if(e.tempo_total.days<min):\n",
        "    maisnovo = e\n",
        "    min = e.tempo_total.days\n",
        "tempo_medio = tempos/len(lista_exonerados)\n",
        "print(\"Maior tempo na rede:\")\n",
        "print(maisvelho)\n",
        "print()\n",
        "print(\"Menor tempo na rede:\")\n",
        "print(maisnovo)\n",
        "print()\n",
        "anos, meses, dias_restantes = formatData(round(tempo_medio))\n",
        "print(f\"Tempo Médio aproximado de permanência na rede é de {anos} anos, {meses} meses e {dias_restantes} dias.\")"
      ],
      "metadata": {
        "colab": {
          "base_uri": "https://localhost:8080/"
        },
        "id": "NujlIcwZC1I2",
        "outputId": "b0271fc4-0997-4b4e-e88e-7380cb73d6c9"
      },
      "execution_count": null,
      "outputs": [
        {
          "output_type": "stream",
          "name": "stdout",
          "text": [
            "Maior tempo na rede:\n",
            "Nome: SIDNEIA STEMPINHAKI \n",
            "27/04/1995 - 01/08/2023\n",
            "28 anos, 3 meses e 13 dias.\n",
            "\n",
            "Menor tempo na rede:\n",
            "Nome: HELOY ALVES DA SILVA \n",
            "14/02/2012 - 14/02/2012\n",
            "0 anos, 0 meses e 0 dias.\n",
            "\n",
            "Tempo Médio aproximado de permanência na rede é de 3 anos, 11 meses e 16 dias.\n"
          ]
        }
      ]
    },
    {
      "cell_type": "code",
      "source": [
        "caminho_atual = \"/content/drive/MyDrive/Dados/Instrutores/Atual.csv\"\n",
        "data_atual = pd.read_csv(caminho_atual,sep=\",\",encoding=\"utf-8\",error_bad_lines=False)\n",
        "#data_atual.head()"
      ],
      "metadata": {
        "colab": {
          "base_uri": "https://localhost:8080/"
        },
        "id": "Ljq82dFpP2y3",
        "outputId": "8e767c38-d7b6-4f82-e66b-aea44f766cb9"
      },
      "execution_count": null,
      "outputs": [
        {
          "output_type": "stream",
          "name": "stderr",
          "text": [
            "<ipython-input-184-b53bb341d29b>:2: FutureWarning: The error_bad_lines argument has been deprecated and will be removed in a future version. Use on_bad_lines in the future.\n",
            "\n",
            "\n",
            "  data_atual = pd.read_csv(caminho_atual,sep=\",\",encoding=\"utf-8\",error_bad_lines=False)\n"
          ]
        }
      ]
    },
    {
      "cell_type": "markdown",
      "source": [
        "Preencher Dados da Lista Atual"
      ],
      "metadata": {
        "id": "RoEEIdSRQjDP"
      }
    },
    {
      "cell_type": "code",
      "source": [
        "from dateutil.relativedelta import relativedelta\n",
        "\n",
        "lista_atual = []\n",
        "for i in range(len(data_atual)):  # Ou use range(len(df.index)) para iterar pelos índices das linhas\n",
        "    linha = data_atual.iloc[i]\n",
        "    #print(f\"Índice: {i}\")\n",
        "    #print(f\"Nome: {linha.iloc[0]}\")  # Acessando a primeira coluna\n",
        "    #print(f\"Sobrenome: {linha.iloc[1]}\")  # Acessando a segunda coluna\n",
        "    #print(f\"Salário: {linha.iloc[2]}\")  # Acessando a terceira coluna\n",
        "    #print()\n",
        "    nome = linha.iloc[0]\n",
        "    data_admissao =  strToDate(linha.iloc[1])\n",
        "    if(diferenca.days<0):\n",
        "      data_admissao = data_demissao\n",
        "    funcionario_ativo = Funcionario(nome)\n",
        "    funcionario_ativo.setAdmissao(data_admissao)\n",
        "    lista_atual.append(funcionario_ativo)"
      ],
      "metadata": {
        "id": "b33nrbuFQirr"
      },
      "execution_count": null,
      "outputs": []
    },
    {
      "cell_type": "markdown",
      "source": [
        "Imprimir lista de Funcionários em atividade"
      ],
      "metadata": {
        "id": "OWeDpf73RBgK"
      }
    },
    {
      "cell_type": "code",
      "source": [
        "for e in lista_atual:\n",
        "  #print(f\"Nome: {e.nome}\")\n",
        "  admissao_formatada = e.data_admissao.strftime(\"%d/%m/%Y\")\n",
        "  #print(f\"Entrou em: {admissao_formatada}\")\n",
        "  e.setTempototal()\n",
        "  anos, meses, dias_restantes = formatData(e.tempo_total.days)\n",
        "  #print(e.tempo_total.days,\" dias\")\n",
        "  #print(f\"Aproximadamente {anos} anos, {meses} meses e {dias_restantes} dias.\")\n",
        "  #print()"
      ],
      "metadata": {
        "id": "F-vb97W4Q87w"
      },
      "execution_count": null,
      "outputs": []
    },
    {
      "cell_type": "markdown",
      "source": [
        "Unir Exonerados e em Atividade"
      ],
      "metadata": {
        "id": "8g24hKLuUca0"
      }
    },
    {
      "cell_type": "code",
      "source": [
        "#junta listas\n",
        "relacao_funcionarios =  lista_exonerados + lista_atual\n",
        "#for f in relacao_funcionarios:\n",
        "#  print(f\"Nome: {f.nome}        Data de Admissão: {f.data_admissao}\")"
      ],
      "metadata": {
        "id": "0iWP-GoCUbjH"
      },
      "execution_count": null,
      "outputs": []
    },
    {
      "cell_type": "code",
      "source": [
        "#calcular a rotatividade para cada ano considerando apenas os exonerados\n",
        "primeiro_ano = 2023\n",
        "ultimo_ano = 0\n",
        "total_anterior=0\n",
        "total_entrada=0\n",
        "total_saida=0\n",
        "\n",
        "ano_quantidade_entrada = {}\n",
        "ano_quantidade_saida = {}\n",
        "for e in lista_exonerados:\n",
        "    ano_admissao = e.getAdmissao().year\n",
        "    ano_demissao = e.getDemissao().year\n",
        "    if(ano_admissao < primeiro_ano):\n",
        "      primeiro_ano = ano_admissao\n",
        "    if(ano_demissao > ultimo_ano):\n",
        "      ultimo_ano = ano_demissao\n",
        "    if ano_admissao in ano_quantidade_entrada:\n",
        "        ano_quantidade_entrada[ano_admissao] = ano_quantidade_entrada[ano_admissao] + 1\n",
        "    else:\n",
        "        ano_quantidade_entrada[ano_admissao] = 1\n",
        "\n",
        "    if ano_demissao in ano_quantidade_saida:\n",
        "        ano_quantidade_saida[ano_demissao] = ano_quantidade_saida[ano_demissao] + 1\n",
        "    else:\n",
        "        ano_quantidade_saida[ano_demissao] = 1\n",
        "#print(ano_quantidade_entrada)\n",
        "# Ordenar o dicionário com base nos valores em ordem crescente\n",
        "entrada_ordenada = dict(sorted(ano_quantidade_entrada.items(), key=lambda item: item[0]))\n",
        "saida_ordenada = dict(sorted(ano_quantidade_saida.items(), key=lambda item: item[0]))\n",
        "#print(primeiro_ano)\n",
        "#print(ultimo_ano)\n",
        "\n",
        "for chave in range(primeiro_ano,ultimo_ano+1,1):\n",
        "  entrada = 0\n",
        "  saida = 0\n",
        "  if(chave in ano_quantidade_entrada):\n",
        "    entrada = ano_quantidade_entrada[chave]\n",
        "  else:\n",
        "    entrada = 0\n",
        "  if(chave in ano_quantidade_saida):\n",
        "    saida = ano_quantidade_saida[chave]\n",
        "  else:\n",
        "    saida = 0\n",
        "\n",
        "  total_entrada = total_entrada + entrada\n",
        "  total_anterior = total_entrada-total_saida\n",
        "\n",
        "  total_saida = total_saida + saida\n",
        "  #if(entrada>0 or saida>0):\n",
        "\n",
        "    #print(f\"No ano de {chave} entraram {entrada} funcionários e saíram {saida} funcionários\")\n",
        "    #print(f\"Total acumulado: {total_entrada-total_saida} funcionários\")\n",
        "    #print(f\"Taxa de rotatividade no ano {chave}: {round(calcRotatividade(saida,total_anterior))}%\")\n",
        "  entrada = 0\n",
        "  saida = 0\n",
        "  print()\n",
        "\n",
        "# Exibir o dicionário ordenado\n",
        "#print(dicionario_ordenado)\n",
        "total_entrada = 0\n",
        "total_saida = 0\n",
        "\n"
      ],
      "metadata": {
        "colab": {
          "base_uri": "https://localhost:8080/"
        },
        "id": "G7HNpIy9ydCP",
        "outputId": "c26ec2fa-7cc3-4737-cebb-05e6beba6f9b"
      },
      "execution_count": null,
      "outputs": [
        {
          "output_type": "stream",
          "name": "stdout",
          "text": [
            "\n",
            "\n",
            "\n",
            "\n",
            "\n",
            "\n",
            "\n",
            "\n",
            "\n",
            "\n",
            "\n",
            "\n",
            "\n",
            "\n",
            "\n",
            "\n",
            "\n",
            "\n",
            "\n",
            "\n",
            "\n",
            "\n",
            "\n",
            "\n",
            "\n",
            "\n",
            "\n",
            "\n",
            "\n",
            "\n",
            "\n",
            "\n",
            "\n"
          ]
        }
      ]
    },
    {
      "cell_type": "code",
      "source": [
        "#calcular a rotatividade para cada ano considerando todos\n",
        "primeiro_ano = datetime.now().year\n",
        "ultimo_ano =  datetime.now().year\n",
        "total_anterior=0\n",
        "total_entrada=0\n",
        "total_saida=0\n",
        "tempos=0\n",
        "tempo_medio = 0\n",
        "ano_quantidade_entrada = {}\n",
        "ano_quantidade_saida = {}\n",
        "min = sys.maxsize\n",
        "max = 0\n",
        "tempos_medios = []\n",
        "for e in relacao_funcionarios:\n",
        "    tempos = tempos + e.tempo_total.days\n",
        "    #print(tempos)\n",
        "    ano_admissao = e.getAdmissao().year\n",
        "    if e.getDemissao() is None:\n",
        "      ano_demissao = datetime.now().year+1\n",
        "    else:\n",
        "        ano_demissao = e.getDemissao().year\n",
        "\n",
        "    if(ano_admissao < primeiro_ano):\n",
        "      primeiro_ano = ano_admissao\n",
        "    #if(ano_demissao > ultimo_ano):\n",
        "    #  ultimo_ano = ano_demissao\n",
        "    if(e.tempo_total.days>max):\n",
        "      maisvelho = e\n",
        "      max = e.tempo_total.days\n",
        "    if(e.tempo_total.days<min):\n",
        "      maisnovo = e\n",
        "      min = e.tempo_total.days\n",
        "\n",
        "    if ano_admissao in ano_quantidade_entrada:\n",
        "        ano_quantidade_entrada[ano_admissao] = ano_quantidade_entrada[ano_admissao] + 1\n",
        "    else:\n",
        "        ano_quantidade_entrada[ano_admissao] = 1\n",
        "\n",
        "    if ano_demissao in ano_quantidade_saida:\n",
        "        ano_quantidade_saida[ano_demissao] = ano_quantidade_saida[ano_demissao] + 1\n",
        "    else:\n",
        "        ano_quantidade_saida[ano_demissao] = 1\n",
        "\n",
        "tempo_medio = tempos/len(relacao_funcionarios)\n",
        "#tempos_medios.append(tempo_medio)\n",
        "#print(ano_quantidade_entrada)\n",
        "# Ordenar o dicionário com base nos valores em ordem crescente\n",
        "entrada_ordenada = dict(sorted(ano_quantidade_entrada.items(), key=lambda item: item[0]))\n",
        "saida_ordenada = dict(sorted(ano_quantidade_saida.items(), key=lambda item: item[0]))\n",
        "#print(primeiro_ano)\n",
        "#print(ultimo_ano)\n",
        "total_acumulado={}\n",
        "taxa_rotatividade_ano={}\n",
        "anos_relevantes = []\n",
        "for chave in range(primeiro_ano,ultimo_ano+1,1):\n",
        "  entrada = 0\n",
        "  saida = 0\n",
        "  if(chave in ano_quantidade_entrada):\n",
        "    entrada = ano_quantidade_entrada[chave]\n",
        "  else:\n",
        "    entrada = 0\n",
        "  if(chave in ano_quantidade_saida):\n",
        "    saida = ano_quantidade_saida[chave]\n",
        "  else:\n",
        "    saida = 0\n",
        "  total_anterior = total_entrada-total_saida\n",
        "  total_entrada = total_entrada + entrada\n",
        "  total_saida = total_saida + saida\n",
        "  if(entrada>0 or saida>0):\n",
        "    anos_relevantes.append(chave)\n",
        "    #print(f\"No ano de {chave} entraram {entrada} funcionários e saíram {saida} funcionários\")\n",
        "    #print(f\"Total acumulado: {total_entrada-total_saida} funcionários\")\n",
        "    total_acumulado[chave] = total_entrada-total_saida\n",
        "    #print(f\"Taxa de rotatividade no ano {chave}: {round(calcRotatividade(saida,total_anterior))}%\")\n",
        "    taxa_rotatividade_ano[chave] = round(calcRotatividade(saida,total_anterior))\n",
        "  entrada = 0\n",
        "  saida = 0\n",
        "  #print()\n",
        "\n",
        "# Exibir o dicionário ordenado\n",
        "#print(dicionario_ordenado)\n",
        "total_entrada = 0\n",
        "total_saida = 0\n",
        "\n",
        "#print(anos_relevantes)"
      ],
      "metadata": {
        "id": "S5nSfFoEW4Cw"
      },
      "execution_count": null,
      "outputs": []
    },
    {
      "cell_type": "code",
      "source": [
        "import operator\n",
        "import sys\n",
        "#print(taxa_rotatividade_ano)\n",
        "#print(total_acumulado)\n",
        "ano_menor_qtd = 0\n",
        "ano_maior_qtd = 0\n",
        "maior_qtd = 0\n",
        "menor_qtd = sys.maxsize\n",
        "\n",
        "for a,v in total_acumulado.items():\n",
        "  if(v>maior_qtd):\n",
        "    ano_maior_qtd = a\n",
        "    maior_qtd = v\n",
        "  if(v<menor_qtd):\n",
        "    ano_menor_qtd = a\n",
        "    menor_qtd = v\n",
        "\n",
        "\n",
        "#print(f\"O ano {ano_maior_qtd} teve {maior_qtd} funcionários e o ano {ano_menor_qtd} teve {menor_qtd} funcionários\")\n",
        "#print(\"Ano  |Nº de Funcionários  |Rotatividade\")\n",
        "taxa_media = 0\n",
        "for ano in anos_relevantes:\n",
        "  taxa_media = taxa_media + taxa_rotatividade_ano[ano]\n",
        "  #print(f\"{ano} |{total_acumulado[ano]:03d}                 |{taxa_rotatividade_ano[ano]:02d}%\")\n",
        "print()\n",
        "taxa_media = taxa_media/len(taxa_rotatividade_ano)\n",
        "print(f\"A taxa de Rotatividade média é de {round(taxa_media)}%\")\n",
        "anos, meses, dias_restantes = formatData(round(tempo_medio))\n",
        "print(f\"Tempo médio de permanência é de aproximadamente {anos} anos, {meses} meses e {dias_restantes} dias.\")\n",
        "print()\n",
        "print(\"Maior tempo na rede:\")\n",
        "print(maisvelho)\n",
        "print()\n",
        "print(\"Menor tempo na rede:\")\n",
        "print(maisnovo)\n"
      ],
      "metadata": {
        "colab": {
          "base_uri": "https://localhost:8080/"
        },
        "id": "NzpVN7WJiQXk",
        "outputId": "92f9ec8e-d8c1-4af8-a45b-0d81217a270d"
      },
      "execution_count": null,
      "outputs": [
        {
          "output_type": "stream",
          "name": "stdout",
          "text": [
            "\n",
            "A taxa de Rotatividade média é de 14%\n",
            "Tempo médio de permanência é de aproximadamente 6 anos, 5 meses e 29 dias.\n",
            "\n",
            "Maior tempo na rede:\n",
            "Nome: SIDNEIA STEMPINHAKI \n",
            "27/04/1995 - 01/08/2023\n",
            "28 anos, 3 meses e 13 dias.\n",
            "\n",
            "Menor tempo na rede:\n",
            "Nome: HELOY ALVES DA SILVA \n",
            "14/02/2012 - 14/02/2012\n",
            "0 anos, 0 meses e 0 dias.\n"
          ]
        }
      ]
    },
    {
      "cell_type": "code",
      "source": [
        "import matplotlib.pyplot as plt\n",
        "estatisticas =[total_acumulado, taxa_rotatividade_ano]\n",
        "df = pd.DataFrame(estatisticas)\n",
        "df = df.rename(index={0: \"Número de Funcionários\", 1: \"Taxa de Rotatividade\"})\n",
        "\n",
        "# Exiba o DataFrame\n",
        "#print(df)"
      ],
      "metadata": {
        "id": "CqePb0ToT2Ce"
      },
      "execution_count": null,
      "outputs": []
    },
    {
      "cell_type": "markdown",
      "source": [
        "Evolução Salarial dos Instrutores de Informática desde 2016 (conforme dados disponíveis)\n"
      ],
      "metadata": {
        "id": "-V-HkToEXJC5"
      }
    },
    {
      "cell_type": "code",
      "source": [
        "def obter_ano(dicionario):\n",
        "    anos = list(dicionario['Salario'].keys())\n",
        "    # Se o dicionário 'Salario' estiver vazio, retorne 0 para manter a ordem\n",
        "    if anos:\n",
        "        return int(anos[0])\n",
        "    else:\n",
        "        return 0\n",
        "\n",
        "\n",
        "def geradorGrafico():\n",
        "  inicial = indices_encontrados[0]\n",
        "  final = indices_encontrados[len(indices_encontrados)-1]\n",
        "  funcionarios_pesquisados = []\n",
        "  #print(inicial, final)\n",
        "  for indice in indices_encontrados:\n",
        "      if indice < len(funcionarios_df):\n",
        "          elemento = funcionarios_df[indice]\n",
        "          funcionarios_pesquisados.append(elemento)\n",
        "\n",
        "\n",
        "\n",
        "  # Ordene a lista de dicionários com base no ano de 'Salario'\n",
        "  funcionarios_pesquisados_ordem = sorted(funcionarios_pesquisados, key=obter_ano)\n",
        "  #print(funcionarios_pesquisados)\n",
        "  #print(funcionarios_pesquisados_ordem)\n",
        "  #df = pd.DataFrame(funcionarios_df)\n",
        "  df = pd.DataFrame(funcionarios_pesquisados_ordem)\n",
        "  # Para expandir os dados dos salários em colunas separadas, você pode usar o método .apply\n",
        "  df = df.join(df['Salario'].apply(pd.Series))\n",
        "  df.drop(columns=['Salario'], inplace=True)  # Remove a coluna 'Salario'\n",
        "\n",
        "  # Exiba o DataFrame\n",
        "  print(df)\n",
        "  df.set_index('Nome', inplace=True)\n",
        "\n",
        "  # Transponha o DataFrame para que os anos se tornem índices\n",
        "  df = df.transpose()\n",
        "\n",
        "  # Plote um gráfico de linha para cada nome\n",
        "  df.plot(kind='line', marker='o')\n",
        "  plt.title(\"Evolução dos Salários ao Longo dos Anos\")\n",
        "  plt.xlabel(\"Ano\")\n",
        "  plt.ylabel(\"Salário\")\n",
        "  plt.grid(True)\n",
        "\n",
        "  # Exiba o gráfico\n",
        "  plt.legend(title='Nome')\n",
        "\n",
        "  plt.show()"
      ],
      "metadata": {
        "id": "sMJNe0Uwb97Q"
      },
      "execution_count": null,
      "outputs": []
    },
    {
      "cell_type": "code",
      "source": [
        "import csv\n",
        "from itertools import groupby\n",
        "import matplotlib.pyplot as plt\n",
        "caminho_salarios = \"/content/drive/MyDrive/Dados/Instrutores/Salario.csv\"\n",
        "#data_salarios = pd.read_csv(caminho_salarios,sep=\",\",encoding=\"utf-8\",error_bad_lines=False)\n",
        "#data_salarios.head()\n",
        "\n",
        "funcionarios = []\n",
        "\n",
        "# Abra o arquivo CSV a partir do Google Drive\n",
        "with open(caminho_salarios, newline='') as arquivo_csv:\n",
        "    leitor_csv = csv.DictReader(arquivo_csv)\n",
        "\n",
        "    # Itere pelas linhas do arquivo CSV\n",
        "    for linha in leitor_csv:\n",
        "        funcionarios.append(linha)\n",
        "\n",
        "# Agora, a lista funcionarios contém os dados do arquivo CSV do Google Drive\n",
        "#for funcionario in funcionarios:\n",
        "#    print(f\"Nome: {funcionario['Nome Funcionário']}, Salário Bruto: {funcionario['Salário Bruto']}, Salário Liquido: {funcionario['Salário Líquido']},{funcionario['Ano']} \")\n",
        "\n",
        "funcionarios_ordenados = sorted(funcionarios, key=lambda x: x[\"Nome Funcionário\"])\n",
        "#for funcionario in funcionarios_ordenados:\n",
        "#   print(f\"Nome: {funcionario['Nome Funcionário']}, Salário Bruto: {funcionario['Salário Bruto']}, Salário Liquido: {funcionario['Salário Líquido']},{funcionario['Ano']} \")\n",
        "grupos = groupby(funcionarios_ordenados, key=lambda x: x[\"Nome Funcionário\"])\n",
        "lista_funcionarios_salario = []\n",
        "# Itere pelos grupos e imprima os funcionários por nome\n",
        "for nome, funcionarios_no_grupo in grupos:\n",
        "    #print(f\"Funcionários com nome '{nome}':\")\n",
        "    f = Funcionario(nome)\n",
        "\n",
        "    for funcionario in funcionarios_no_grupo:\n",
        "        #print(f\"- Salario Bruto:  {funcionario['Salário Bruto']}, Salário Liquido: {funcionario['Salário Líquido']} em {funcionario['Ano']}\")\n",
        "        f.setSalario_ano(funcionario['Salário Bruto'],funcionario['Salário Líquido'], funcionario['Ano'])\n",
        "    lista_funcionarios_salario.append(f)\n",
        "    #print()\n",
        "funcionarios_df = []\n",
        "aux = 0\n",
        "for elemento in lista_funcionarios_salario:\n",
        "  #print(elemento)\n",
        "  #aux = aux + 1\n",
        "\n",
        "  func ={\"Nome\":elemento.getNome(),\"Salario\":elemento.getSalariosLiquidos()}\n",
        "  funcionarios_df.append(func)\n",
        "#print(funcionarios_df)\n",
        "\n",
        "#print(lista)\n",
        "#for lista in lista_funcionarios_salario:\n",
        "  #print(lista.getNome())\n",
        "  #print(lista.getSalariosLiquidos())\n",
        "#funcionarios_exemplo = {\n",
        " #   \"Funcionário 1\": {2016: 50000, 2017: 52000, 2018: 54000, 2019: 56000, 2020: 58000, 2021: 60000, 2022: 62000, 2023: 64000},\n",
        " #   \"Funcionário 2\": {2016: 45000, 2017: 47000, 2018: 49000, 2019: 51000, 2020: 53000, 2021: 55000, 2022: 57000, 2023: 59000}\n",
        "#}\n",
        "\n",
        "nome_pesquisado = input(\"Digite o nome que deseja pesquisar: \")\n",
        "nome_pesquisado = nome_pesquisado.upper()\n",
        "indices_encontrados = []\n",
        "\n",
        "# Itera sobre os dicionários na lista e rastreia os índices que contêm a substring\n",
        "for indice, item in enumerate(funcionarios_df):\n",
        "    if 'Nome' in item and nome_pesquisado in item['Nome']:\n",
        "        indices_encontrados.append(indice)\n",
        "\n",
        "if indices_encontrados:\n",
        "    #print(f'A substring \"{nome_pesquisado}\" foi encontrada nos seguintes índices: {indices_encontrados}')\n",
        "    geradorGrafico()\n",
        "else:\n",
        "    print(f'A substring \"{nome_pesquisado}\" não foi encontrada em nenhum dicionário.')"
      ],
      "metadata": {
        "colab": {
          "base_uri": "https://localhost:8080/",
          "height": 576
        },
        "id": "LME9GBOiXIy9",
        "outputId": "42b498c2-0120-46af-fa51-e2fca1d49ce0"
      },
      "execution_count": null,
      "outputs": [
        {
          "output_type": "stream",
          "name": "stdout",
          "text": [
            "Digite o nome que deseja pesquisar: lucas soares\n",
            "                    Nome     2017    2018     2019     2020     2021    2022  \\\n",
            "0  LUCAS SOARES DA SILVA  1879.23  1959.1  2208.68  2210.32  2144.33  2080.9   \n",
            "\n",
            "      2023  \n",
            "0  2649.23  \n"
          ]
        },
        {
          "output_type": "display_data",
          "data": {
            "text/plain": [
              "<Figure size 640x480 with 1 Axes>"
            ],
            "image/png": "[encoded data removed]"
          },
          "metadata": {}
        }
      ]
    }
  ]
}